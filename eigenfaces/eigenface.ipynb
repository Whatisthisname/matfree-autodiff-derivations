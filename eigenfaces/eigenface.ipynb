{
 "cells": [
  {
   "cell_type": "code",
   "execution_count": 1,
   "metadata": {},
   "outputs": [],
   "source": [
    "# from ..tests.test_bidiag_JVP_and_VJP_jax import bidiagonalize_vjpable\n",
    "import jax\n",
    "import jax.numpy as jnp\n",
    "from jax import jit\n",
    "from jax.experimental.ode import odeint\n",
    "import matplotlib.pyplot as plt\n",
    "import numpy as np\n",
    "import matplotlib.animation as animation\n",
    "from IPython.display import Image"
   ]
  },
  {
   "cell_type": "code",
   "execution_count": 2,
   "metadata": {},
   "outputs": [
    {
     "name": "stdout",
     "output_type": "stream",
     "text": [
      "Total dataset size:\n",
      "n_samples: 4324\n",
      "n_features: 2914\n",
      "n_classes: 158\n",
      "X.shape:  (4324, 2914)\n"
     ]
    },
    {
     "data": {
      "image/png": "[encoded data removed]",
      "text/plain": [
       "<Figure size 640x480 with 1 Axes>"
      ]
     },
     "metadata": {},
     "output_type": "display_data"
    }
   ],
   "source": [
    "from sklearn.datasets import fetch_lfw_people\n",
    "import sys\n",
    "\n",
    "sys.path.append(\"..\")\n",
    "from tests import test_bidiag_JVP_and_VJP_jax as bidiag_module\n",
    "\n",
    "\n",
    "lfw_people = fetch_lfw_people(min_faces_per_person=10)\n",
    "\n",
    "\n",
    "# introspect the images arrays to find the shapes (for plotting)\n",
    "n_samples, h, w = lfw_people.images.shape\n",
    "\n",
    "# for machine learning we use the 2 data directly (as relative pixel\n",
    "# positions info is ignored by this model)\n",
    "X = lfw_people.data\n",
    "n_features = X.shape[1]\n",
    "\n",
    "# the label to predict is the id of the person\n",
    "y = lfw_people.target\n",
    "target_names = lfw_people.target_names\n",
    "n_classes = target_names.shape[0]\n",
    "\n",
    "print(\"Total dataset size:\")\n",
    "print(\"n_samples: %d\" % n_samples)\n",
    "print(\"n_features: %d\" % n_features)\n",
    "print(\"n_classes: %d\" % n_classes)\n",
    "\n",
    "\n",
    "print(\"X.shape: \", X.shape)\n",
    "\n",
    "\n",
    "def matvec(v, mat):\n",
    "    return mat @ v\n",
    "\n",
    "\n",
    "# X = np.random.randn(10, 10)\n",
    "\n",
    "start_vec = X[0, :]\n",
    "start_vec = jax.random.normal(key=jax.random.PRNGKey(1), shape=X[0, :].shape)\n",
    "\n",
    "import matfree\n",
    "from matfree.decomp import bidiag as bidiag_matfree\n",
    "\n",
    "matves = 100\n",
    "\n",
    "result = bidiag_matfree(matves, materialize=True)(matvec, start_vec, X)\n",
    "mL, mR = result.Q_tall\n",
    "mB = result.J_small\n",
    "\n",
    "bidiag_output = bidiag_module.bidiagonalize_vjpable_matvec(\n",
    "    num_matvecs=matves, custom_vjp=True, reorthogonalize=True\n",
    ")(matvec, start_vec, jnp.asarray(X))\n",
    "L = bidiag_output.ls\n",
    "B = jnp.diag(bidiag_output.alphas) + jnp.diag(bidiag_output.betas, 1)\n",
    "R = bidiag_output.rs\n",
    "\n",
    "norms = [\n",
    "    np.linalg.norm(X - (L[:, :i] @ B[:i, :i] @ R[:, :i].T)) for i in range(1, matves, 1)\n",
    "]\n",
    "m_norms = [\n",
    "    np.linalg.norm(X - (mL[:, :i] @ mB[:i, :i] @ mR[:, :i].T))\n",
    "    for i in range(1, matves, 1)\n",
    "]\n",
    "plt.plot(norms, label=\"my reconstruction norms\")\n",
    "plt.plot(m_norms, label=\"matfree reconstruction norms\")\n",
    "plt.yscale(\"log\")\n",
    "plt.legend()\n",
    "plt.show()\n",
    "\n",
    "# print(h, w)\n",
    "\n",
    "# for i in range(8):\n",
    "#     fig, ax = plt.subplots(1, 2)\n",
    "#     ax[0].imshow((mL @ mB @ mR.T)[i, :].reshape(h, w))\n",
    "#     ax[1].imshow(X[i].reshape(h, w))\n",
    "#     plt.show()\n",
    "\n",
    "# for i in range(8):\n",
    "#     fig, ax = plt.subplots(1, 2)\n",
    "#     ax[0].imshow(mR[:, i].reshape(h, w))\n",
    "#     # ax[1].imshow(X[i].reshape(h, w))\n",
    "#     plt.show()"
   ]
  }
 ],
 "metadata": {
  "kernelspec": {
   "display_name": "differentiable-bidiagonalization-rhtk5Nft-py3.13",
   "language": "python",
   "name": "python3"
  },
  "language_info": {
   "codemirror_mode": {
    "name": "ipython",
    "version": 3
   },
   "file_extension": ".py",
   "mimetype": "text/x-python",
   "name": "python",
   "nbconvert_exporter": "python",
   "pygments_lexer": "ipython3",
   "version": "3.13.1"
  }
 },
 "nbformat": 4,
 "nbformat_minor": 2
}
