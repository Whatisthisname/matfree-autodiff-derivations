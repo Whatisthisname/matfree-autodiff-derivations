{
 "cells": [
  {
   "cell_type": "markdown",
   "metadata": {},
   "source": [
    "## Defining $\\texttt{block\\_matvec}$ which wraps $\\texttt{matvec}$:\n",
    "\n",
    "$$S_Av = \\left[\\begin{array}{cc}\n",
    "0 & A \\\\\n",
    "A^\\top & 0\n",
    "\\end{array}\\right]\n",
    "\n",
    "\\left[\\begin{array}{c}\n",
    "u \\\\\n",
    "l\n",
    "\\end{array}\\right]\n",
    "\n",
    "= \\left[\\begin{array}{c}\n",
    "Al \\\\\n",
    "A^\\top u\n",
    "\\end{array}\\right]\n",
    "=\n",
    "\\left[\\begin{array}{c}\n",
    "\\texttt{matvec}(l) \\\\\n",
    "\\texttt{vjp(matvec, *)}(u)\n",
    "\\end{array}\\right]\n",
    "\n",
    "$$"
   ]
  },
  {
   "cell_type": "code",
   "execution_count": 123,
   "metadata": {},
   "outputs": [
    {
     "name": "stdout",
     "output_type": "stream",
     "text": [
      "Dense matvec:\n",
      "[-0.85  0.62 -0.93 -2.01  0.12]\n",
      "Sparse matvec:\n",
      "[-0.85  0.62 -0.93 -2.01  0.12]\n",
      "Sparse matvec with identity matrix:\n",
      "[[ 0.          0.         -0.55573966 -1.2556321   0.12333269]\n",
      " [ 0.          0.         -0.10629336  0.91457129 -1.10012671]\n",
      " [-0.55573966 -0.10629336  0.          0.          0.        ]\n",
      " [-1.2556321   0.91457129  0.          0.          0.        ]\n",
      " [ 0.12333269 -1.10012671  0.          0.          0.        ]]\n"
     ]
    }
   ],
   "source": [
    "import jax\n",
    "import jax.numpy as jnp\n",
    "import matfree\n",
    "import numpy\n",
    "import random\n",
    "\n",
    "\n",
    "r, c = (2, 3)\n",
    "A = jax.random.normal(jax.random.PRNGKey(int(random.random() * 1000)), shape=(r, c))\n",
    "padded_v0 = jax.random.normal(\n",
    "    jax.random.PRNGKey(int(random.random() * 1000)), shape=c + r\n",
    ")\n",
    "\n",
    "zeros_upper = jnp.zeros((r, r))\n",
    "zeros_lower = jnp.zeros((c, c))\n",
    "S = jnp.block([[zeros_upper, A], [A.T, zeros_lower]])\n",
    "print(\"Dense matvec:\")\n",
    "print((S @ padded_v0).round(2))\n",
    "\n",
    "\n",
    "def matvec(v, params):\n",
    "    scalar = params\n",
    "    return scalar * A @ v\n",
    "\n",
    "\n",
    "def block_matvec(v, matvec_fun, *params):\n",
    "    upper, lower = jnp.split(v, [r])\n",
    "    upper_matvec, vecmat_fun = jax.vjp(lambda v: matvec_fun(v, *params), lower)\n",
    "    (lower_vecmat,) = vecmat_fun(upper)\n",
    "    return jnp.concat((upper_matvec, lower_vecmat))\n",
    "\n",
    "\n",
    "params = jnp.array(1.0)\n",
    "print(\"Sparse matvec:\")\n",
    "print(block_matvec(padded_v0, matvec, 1.0).round(2))\n",
    "\n",
    "print(\"Sparse matvec with identity matrix:\")\n",
    "print(jax.vmap(lambda v: block_matvec(v, matvec, 1.0))(jnp.eye(5)))"
   ]
  },
  {
   "cell_type": "markdown",
   "metadata": {},
   "source": [
    "## Testing that gradients work as expected"
   ]
  },
  {
   "cell_type": "code",
   "execution_count": 124,
   "metadata": {},
   "outputs": [
    {
     "name": "stdout",
     "output_type": "stream",
     "text": [
      "loss 2.526851402599607e-09\n",
      "s = 0.5\n",
      "v = [ 1.44  0.2  -0.69  0.9   0.39]\n",
      "[-0.34495453  0.23187889 -0.40998796 -0.81167483 -0.02058161]\n"
     ]
    }
   ],
   "source": [
    "def loss(vector):\n",
    "    return (jnp.linalg.norm(vector) - 1.0) ** 2\n",
    "\n",
    "\n",
    "loss_fun = jax.value_and_grad(\n",
    "    lambda v, *p: loss(block_matvec(v, matvec, *p)), argnums=(0, 1)\n",
    ")\n",
    "\n",
    "s = 1.0\n",
    "for i in range(100):\n",
    "    loss_, (v_grad, s_grad) = loss_fun(padded_v0, s)\n",
    "    s -= s_grad * 0.01\n",
    "    padded_v0 -= v_grad * 0.01\n",
    "print(\"loss\", loss_)\n",
    "\n",
    "print(f\"s = {s.round(2)}\\nv = {padded_v0.round(2)}\")\n",
    "output = block_matvec(padded_v0, matvec, s)\n",
    "print(output)"
   ]
  },
  {
   "cell_type": "markdown",
   "metadata": {},
   "source": [
    "## Bidiagonalization on $A$"
   ]
  },
  {
   "cell_type": "code",
   "execution_count": 141,
   "metadata": {},
   "outputs": [
    {
     "name": "stdout",
     "output_type": "stream",
     "text": [
      "[[0.117 1.31  0.    0.    0.   ]\n",
      " [0.    0.917 1.178 0.    0.   ]\n",
      " [0.    0.    0.    0.    0.   ]\n",
      " [0.    0.    0.    0.    0.   ]\n",
      " [0.    0.    0.    0.    0.   ]]\n",
      "[[-0.747  0.496 -0.443  0.     0.   ]\n",
      " [ 0.47   0.865  0.175  0.     0.   ]\n",
      " [ 0.47  -0.077 -0.879  0.     0.   ]]\n",
      "[[-0.998 -0.07   0.     0.     0.   ]\n",
      " [-0.07   0.998  0.     0.     0.   ]]\n"
     ]
    }
   ],
   "source": [
    "from tests.test_bidiag_JVP_and_VJP_jax import bidiagonalize_vjpable_matvec\n",
    "\n",
    "\n",
    "def matvec(v, params):\n",
    "    A = params\n",
    "    return A @ v\n",
    "\n",
    "\n",
    "func = bidiagonalize_vjpable_matvec(5, custom_vjp=True, reorthogonalize=False)\n",
    "\n",
    "start_vec = jax.random.normal(\n",
    "    jax.random.PRNGKey(int(random.random() * 1000)), shape=(c)\n",
    ")\n",
    "\n",
    "output = func(matvec, start_vec, A)\n",
    "print(output.B.round(3))\n",
    "print(output.rs.round(3))\n",
    "print(output.ls.round(3))"
   ]
  },
  {
   "cell_type": "markdown",
   "metadata": {},
   "source": [
    "## Tridiagonalization on $S_A$ "
   ]
  },
  {
   "cell_type": "code",
   "execution_count": 126,
   "metadata": {},
   "outputs": [
    {
     "name": "stdout",
     "output_type": "stream",
     "text": [
      "A:\n",
      "[[-0.56 -1.26  0.12]\n",
      " [-0.11  0.91 -1.1 ]]\n",
      "matvec:\n",
      "[[-0.56 -1.26  0.12]\n",
      " [-0.11  0.91 -1.1 ]]\n",
      "S_A:\n",
      "[[ 0.    0.   -0.56 -1.26  0.12]\n",
      " [ 0.    0.   -0.11  0.91 -1.1 ]\n",
      " [-0.56 -0.11  0.    0.    0.  ]\n",
      " [-1.26  0.91  0.    0.    0.  ]\n",
      " [ 0.12 -1.1   0.    0.    0.  ]]\n"
     ]
    }
   ],
   "source": [
    "print(\"A:\")\n",
    "print(A.round(2))\n",
    "print(\"matvec:\")\n",
    "print(jax.vmap(lambda v: matvec(v, A))(jnp.eye(3)).round(2).T)\n",
    "\n",
    "\n",
    "def matvec_big(v, *params):\n",
    "    return block_matvec(v, matvec, *params)\n",
    "\n",
    "\n",
    "print(\"S_A:\")\n",
    "print(jax.vmap(lambda v: matvec_big(v, A))(jnp.eye(5)).round(2))"
   ]
  },
  {
   "cell_type": "code",
   "execution_count": 127,
   "metadata": {},
   "outputs": [
    {
     "name": "stdout",
     "output_type": "stream",
     "text": [
      "padded start vector: [ 0.     0.    -0.14  -0.45   0.927]\n",
      "[ 0.     0.    -0.134 -0.433  0.891]\n",
      "Symmetric tridiagonal output:\n",
      "(Array([0., 0., 0., 0., 0.], dtype=float64), Array([1.54452401, 0.8098921 , 0.7597578 , 0.58307431], dtype=float64))\n",
      "Q matrix, orthogonal vectors:\n",
      "[[ 0.     0.471  0.     0.882  0.   ]\n",
      " [ 0.    -0.882  0.     0.471  0.   ]\n",
      " [-0.134  0.     0.049  0.    -0.99 ]\n",
      " [-0.433  0.    -0.901  0.     0.015]\n",
      " [ 0.891  0.    -0.43   0.    -0.142]]\n"
     ]
    }
   ],
   "source": [
    "from matfree import decomp\n",
    "\n",
    "new_start = jnp.pad(start_vec, (r, 0))\n",
    "print(\"padded start vector:\", new_start.round(3))\n",
    "\n",
    "print((new_start / jnp.linalg.norm(new_start)).round(3))\n",
    "\n",
    "func_big = matfree.decomp.tridiag_sym(5, materialize=False)\n",
    "output_big = func_big(matvec_big, new_start, A)\n",
    "\n",
    "print(\"Symmetric tridiagonal output:\")\n",
    "print(output_big.J_small)\n",
    "print(\"Q matrix, orthogonal vectors:\")\n",
    "print(output_big.Q_tall.round(3))"
   ]
  },
  {
   "cell_type": "markdown",
   "metadata": {},
   "source": [
    "## Wrapping `block_matvec`"
   ]
  },
  {
   "cell_type": "code",
   "execution_count": 147,
   "metadata": {},
   "outputs": [
    {
     "data": {
      "text/plain": [
       "DecompResult(rs=Array([[-0.747,  0.496, -0.443],\n",
       "       [ 0.47 ,  0.865,  0.175],\n",
       "       [ 0.47 , -0.077, -0.879]], dtype=float64), ls=Array([[-0.998, -0.07 ],\n",
       "       [-0.07 ,  0.998]], dtype=float64), as_=Array([0.11746602, 0.91740758], dtype=float64), bs_=Array([1.31022036, 1.17752914], dtype=float64))"
      ]
     },
     "execution_count": 147,
     "metadata": {},
     "output_type": "execute_result"
    }
   ],
   "source": [
    "from typing import NamedTuple\n",
    "from jax import Array\n",
    "import jax.numpy as jnp\n",
    "\n",
    "\n",
    "class DecompResult(NamedTuple):\n",
    "    rs: Array\n",
    "    ls: Array\n",
    "    as_: Array\n",
    "    bs_: Array\n",
    "\n",
    "\n",
    "def arnoldi_bidiagonalization(\n",
    "    num_matvecs: int,\n",
    "    shape: tuple[int, int],\n",
    "    custom_vjp: bool = True,\n",
    "    reortho: str = \"full\",\n",
    "):\n",
    "    def block_matvec(v0, matvec_fun, *params):\n",
    "        upper, lower = jnp.split(v0, [shape[0]])\n",
    "        upper_matvec, vecmat_fun = jax.vjp(lambda v: matvec_fun(v, *params), lower)\n",
    "        (lower_vecmat,) = vecmat_fun(upper)\n",
    "        return jnp.concat((upper_matvec, lower_vecmat))\n",
    "\n",
    "    tridiag = matfree.decomp.tridiag_sym(\n",
    "        num_matvecs,\n",
    "        materialize=False,\n",
    "        custom_vjp=custom_vjp,\n",
    "        reortho=reortho,\n",
    "    )\n",
    "\n",
    "    def wrapped_bidiag(v0, matvec, *params):\n",
    "        padded_v0 = jnp.pad(v0, (shape[0], 0))\n",
    "\n",
    "        def block_matved_curried(v, *params):\n",
    "            return block_matvec(v, matvec, *params)\n",
    "\n",
    "        output = tridiag(block_matved_curried, padded_v0, *params)\n",
    "\n",
    "        ababab = output.J_small[1]\n",
    "        as_ = ababab[0::2]\n",
    "        bs_ = ababab[1::2]\n",
    "\n",
    "        rlrlrl = output.Q_tall\n",
    "        rs = rlrlrl[shape[0] :, 0::2].round(3)\n",
    "        ls = rlrlrl[: shape[0], 1::2].round(3)\n",
    "\n",
    "        return DecompResult(rs=rs, ls=ls, as_=as_, bs_=bs_)\n",
    "\n",
    "    return wrapped_bidiag\n",
    "\n",
    "\n",
    "func = arnoldi_bidiagonalization(5, shape=(2, 3))\n",
    "\n",
    "func(start_vec, matvec, A)"
   ]
  }
 ],
 "metadata": {
  "kernelspec": {
   "display_name": "differentiable-bidiagonalization-rhtk5Nft-py3.13",
   "language": "python",
   "name": "python3"
  },
  "language_info": {
   "codemirror_mode": {
    "name": "ipython",
    "version": 3
   },
   "file_extension": ".py",
   "mimetype": "text/x-python",
   "name": "python",
   "nbconvert_exporter": "python",
   "pygments_lexer": "ipython3",
   "version": "3.13.5"
  }
 },
 "nbformat": 4,
 "nbformat_minor": 2
}
