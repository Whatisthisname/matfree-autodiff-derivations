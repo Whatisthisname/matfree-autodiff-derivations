{
 "cells": [
  {
   "cell_type": "code",
   "execution_count": null,
   "metadata": {},
   "outputs": [],
   "source": [
    "A = np.array(\n",
    "    [\n",
    "        [0, 1, 0, 1, 1, 0, 0, 0],\n",
    "        [1, 0, 1, 1, 0, 0, 0, 0],\n",
    "        [1, 0, 0, 0, 1, 1, 0, 0],\n",
    "        [0, 0, 0, 0, 1, 1, 0, 0],\n",
    "        [0, 0, 0, 1, 0, 1, 0, 1],\n",
    "        [0, 0, 0, 0, 0, 0, 1, 0],\n",
    "        [0, 0, 0, 0, 0, 0, 0, 1],\n",
    "        [0, 0, 0, 0, 0, 1, 0, 0],\n",
    "    ],\n",
    "    dtype=bool,\n",
    ")\n",
    "\n",
    "# order = [5, 1, 2, 3, 4, 0, 6, 7]\n",
    "# A = A[order][:, order]"
   ]
  },
  {
   "cell_type": "code",
   "execution_count": null,
   "metadata": {},
   "outputs": [
    {
     "name": "stdout",
     "output_type": "stream",
     "text": [
      "[[1 1 1 1 1 1 1 1]\n",
      " [1 1 1 1 1 1 1 1]\n",
      " [1 1 1 1 1 1 1 1]\n",
      " [0 0 0 1 1 1 1 1]\n",
      " [0 0 0 1 1 1 1 1]\n",
      " [0 0 0 0 0 1 1 1]\n",
      " [0 0 0 0 0 1 1 1]\n",
      " [0 0 0 0 0 1 1 1]]\n"
     ]
    }
   ],
   "source": [
    "import numpy as np\n",
    "\n",
    "A = np.array(\n",
    "    [\n",
    "        [0, 1, 0, 1, 1, 0, 0, 0],\n",
    "        [1, 0, 1, 1, 0, 0, 0, 0],\n",
    "        [1, 0, 0, 0, 1, 1, 0, 0],\n",
    "        [0, 0, 0, 0, 1, 1, 0, 0],\n",
    "        [0, 0, 0, 1, 0, 1, 0, 1],\n",
    "        [0, 0, 0, 0, 0, 0, 1, 0],\n",
    "        [0, 0, 0, 0, 0, 0, 0, 1],\n",
    "        [0, 0, 0, 0, 0, 1, 0, 0],\n",
    "    ],\n",
    "    dtype=bool,\n",
    ")\n",
    "\n",
    "resultat = A\n",
    "\n",
    "for i in range(2, len(A) - 1):\n",
    "    resultat = resultat | np.linalg.matrix_power(A, i)\n",
    "\n",
    "print(resultat.astype(int))"
   ]
  },
  {
   "cell_type": "code",
   "execution_count": 24,
   "metadata": {},
   "outputs": [
    {
     "data": {
      "text/plain": [
       "array([[1, 0],\n",
       "       [0, 1]])"
      ]
     },
     "execution_count": 24,
     "metadata": {},
     "output_type": "execute_result"
    }
   ],
   "source": [
    "np.array([[0, 1], [0, 0]], dtype=int)\n",
    "np.array([[0, 1], [0, 0]], dtype=int)\n",
    "np.array([[1, 0], [0, 1]], dtype=int)"
   ]
  }
 ],
 "metadata": {
  "kernelspec": {
   "display_name": "Python 3",
   "language": "python",
   "name": "python3"
  },
  "language_info": {
   "codemirror_mode": {
    "name": "ipython",
    "version": 3
   },
   "file_extension": ".py",
   "mimetype": "text/x-python",
   "name": "python",
   "nbconvert_exporter": "python",
   "pygments_lexer": "ipython3",
   "version": "3.9.6"
  }
 },
 "nbformat": 4,
 "nbformat_minor": 2
}
