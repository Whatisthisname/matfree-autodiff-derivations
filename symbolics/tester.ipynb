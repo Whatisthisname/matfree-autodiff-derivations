{
 "cells": [
  {
   "cell_type": "code",
   "execution_count": 6,
   "id": "905a6863",
   "metadata": {},
   "outputs": [
    {
     "data": {
      "text/plain": [
       "'(- ((⟍(drᵀ·r) + ⟍(rᵀ·dr)))ᵀ·⟍(drᵀ·r) - ((⟍(drᵀ·r) + ⟍(rᵀ·dr)))ᵀ·⟍(rᵀ·dr)) = 0'"
      ]
     },
     "execution_count": 6,
     "metadata": {},
     "output_type": "execute_result"
    }
   ],
   "source": [
    "from tree_exprs import (\n",
    "    MatrixLit,\n",
    "    Dim,\n",
    "    Differential,\n",
    "    Inverse,\n",
    "    InnerProduct,\n",
    "    Equation,\n",
    "    Shape,\n",
    "    Var,\n",
    "    Const,\n",
    "    niceprint,\n",
    "    UnitDim,\n",
    ")\n",
    "from tree_expand import expand, expand_equation\n",
    "\n",
    "square_dim = Dim(\"size\")\n",
    "A = Var(MatrixLit(name=\"A\", shape=Shape((square_dim, square_dim))))\n",
    "Q = Var(MatrixLit(name=\"Q\", shape=Shape((square_dim, square_dim))))\n",
    "R = Var(MatrixLit(name=\"R\", shape=Shape((square_dim, square_dim))))\n",
    "I = Const(MatrixLit(name=\"I\", shape=Shape((square_dim, square_dim))))\n",
    "c = Const(MatrixLit(name=\"c\", shape=Shape((UnitDim, UnitDim))))\n",
    "r = Var(MatrixLit(name=\"r\", shape=Shape((square_dim, UnitDim))))\n",
    "\n",
    "eq1 = Equation(c - Inverse(InnerProduct(r, r)), c)\n",
    "\n",
    "expand_equation(expand_equation((eq1.isolate_zero_RHS().differentiate()))).str_compact()"
   ]
  }
 ],
 "metadata": {
  "kernelspec": {
   "display_name": "base",
   "language": "python",
   "name": "python3"
  },
  "language_info": {
   "codemirror_mode": {
    "name": "ipython",
    "version": 3
   },
   "file_extension": ".py",
   "mimetype": "text/x-python",
   "name": "python",
   "nbconvert_exporter": "python",
   "pygments_lexer": "ipython3",
   "version": "3.12.2"
  }
 },
 "nbformat": 4,
 "nbformat_minor": 5
}
